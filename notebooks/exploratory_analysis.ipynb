{
 "cells": [
  {
   "metadata": {},
   "cell_type": "code",
   "outputs": [],
   "execution_count": null,
   "source": [
    "{\n",
    " \"cells\": [\n",
    "  {\n",
    "   \"cell_type\": \"markdown\",\n",
    "   \"metadata\": {},\n",
    "   \"source\": [\n",
    "    \"# Exploratory Data Analysis\"\n",
    "   ]\n",
    "  },\n",
    "  {\n",
    "   \"cell_type\": \"code\",\n",
    "   \"execution_count\": null,\n",
    "   \"metadata\": {},\n",
    "   \"outputs\": [],\n",
    "   \"source\": [\n",
    "    \"import pandas as pd\\n\",\n",
    "    \"import matplotlib.pyplot as plt\\n\",\n",
    "    \"\\n\",\n",
    "    \"# Load data\\n\",\n",
    "    \"data = pd.read_csv('../data/raw/sample_data.csv')\\n\",\n",
    "    \"\\n\",\n",
    "    \"# Display first rows\\n\",\n",
    "    \"print(data.head())\\n\",\n",
    "    \"\\n\",\n",
    "    \"# Plot data\\n\",\n",
    "    \"plt.scatter(data['feature1'], data['feature2'], c=data['target'])\\n\",\n",
    "    \"plt.xlabel('Feature 1')\\n\",\n",
    "    \"plt.ylabel('Feature 2')\\n\",\n",
    "    \"plt.show()\"\n",
    "   ]\n",
    "  }\n",
    " ]\n",
    "}\n"
   ],
   "id": "d1f68940a7c30da4"
  }
 ],
 "metadata": {},
 "nbformat": 5,
 "nbformat_minor": 9
}
